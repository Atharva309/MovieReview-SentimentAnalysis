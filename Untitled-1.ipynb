{
 "cells": [
  {
   "cell_type": "code",
   "execution_count": null,
   "metadata": {},
   "outputs": [],
   "source": [
    "!unzip /content/neg.zip -d /content/neg\n",
    "!unzip /content/pos.zip -d /content/pos"
   ]
  },
  {
   "cell_type": "code",
   "execution_count": null,
   "metadata": {},
   "outputs": [],
   "source": [
    "import os\n",
    "import pandas as pd\n",
    "\n",
    "# Load the positive\n",
    "pos_dir = \"/content/pos/pos\"\n",
    "pos_reviews = []\n",
    "for filename in os.listdir(pos_dir):\n",
    "    if filename.endswith(\".txt\"):\n",
    "        with open(os.path.join(pos_dir, filename), \"r\") as f:\n",
    "            review = f.read()\n",
    "            pos_reviews.append(review)\n",
    "\n",
    "# Load the negative\n",
    "neg_dir = \"/content/neg/neg\"\n",
    "neg_reviews = []\n",
    "for filename in os.listdir(neg_dir):\n",
    "    if filename.endswith(\".txt\"):\n",
    "        with open(os.path.join(neg_dir, filename), \"r\") as f:\n",
    "            review = f.read()\n",
    "            neg_reviews.append(review)\n",
    "\n",
    "# Check reviews were loaded\n",
    "if not pos_reviews:\n",
    "    print(\"Error: No positive reviews found in directory\")\n",
    "if not neg_reviews:\n",
    "    print(\"Error: No negative reviews found in directory\")\n",
    "\n",
    "# Create a DataFrame\n",
    "df_pos = pd.DataFrame({\"review\": pos_reviews, \"sentiment\": \"positive\"})\n",
    "df_neg = pd.DataFrame({\"review\": neg_reviews, \"sentiment\": \"negative\"})\n",
    "df = pd.concat([df_pos, df_neg], ignore_index=True)\n",
    "\n",
    "print(df.head())"
   ]
  },
  {
   "cell_type": "code",
   "execution_count": null,
   "metadata": {},
   "outputs": [],
   "source": [
    "from sklearn.feature_extraction.text import CountVectorizer\n",
    "from sklearn.naive_bayes import MultinomialNB\n",
    "from sklearn.metrics import accuracy_score\n",
    "from sklearn.model_selection import train_test_split\n",
    "\n",
    "# Split training and test sets\n",
    "X_train, X_test, y_train, y_test = train_test_split(df[\"review\"], df[\"sentiment\"], test_size=0.2, random_state=42)\n",
    "\n",
    "# Bag-of-words model\n",
    "vectorizer = CountVectorizer(stop_words=\"english\")\n",
    "X_train = vectorizer.fit_transform(X_train)\n",
    "X_test = vectorizer.transform(X_test)\n",
    "\n",
    "# Naive Bayes classifier\n",
    "clf = MultinomialNB()\n",
    "clf.fit(X_train, y_train)\n",
    "\n",
    "# Evaluate the classifier\n",
    "y_pred = clf.predict(X_test)\n",
    "accuracy = accuracy_score(y_test, y_pred)\n",
    "print(f\"Accuracy: {accuracy}\")\n"
   ]
  },
  {
   "cell_type": "code",
   "execution_count": null,
   "metadata": {},
   "outputs": [],
   "source": [
    "# Assume that \"text\" is the text you want to classify\n",
    "text = \"This movie is great. I would recommend it to anyone.\"\n",
    "\n",
    "X = vectorizer.transform([text])\n",
    "\n",
    "y_pred = clf.predict(X)\n",
    "\n",
    "print(y_pred[0])"
   ]
  }
 ],
 "metadata": {
  "kernelspec": {
   "display_name": "Python 3",
   "language": "python",
   "name": "python3"
  },
  "language_info": {
   "name": "python",
   "version": "3.8.9"
  },
  "orig_nbformat": 4,
  "vscode": {
   "interpreter": {
    "hash": "31f2aee4e71d21fbe5cf8b01ff0e069b9275f58929596ceb00d14d90e3e16cd6"
   }
  }
 },
 "nbformat": 4,
 "nbformat_minor": 2
}
